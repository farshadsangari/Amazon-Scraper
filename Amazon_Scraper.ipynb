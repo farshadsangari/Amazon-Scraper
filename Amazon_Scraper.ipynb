{
 "cells": [
  {
   "cell_type": "markdown",
   "id": "77d3801f",
   "metadata": {
    "pycharm": {
     "name": "#%% md\n"
    }
   },
   "source": [
    "# Import Libraries"
   ]
  },
  {
   "cell_type": "code",
   "execution_count": 1,
   "id": "c89e698b",
   "metadata": {
    "pycharm": {
     "name": "#%%\n"
    }
   },
   "outputs": [],
   "source": [
    "import re\n",
    "import time\n",
    "import numpy as np\n",
    "import pandas as pd\n",
    "from selenium import webdriver\n",
    "from selenium.webdriver.common.by import By\n",
    "from selenium.webdriver.common.keys import Keys\n",
    "from selenium.webdriver.support.ui import WebDriverWait\n",
    "from selenium.webdriver.common.action_chains import ActionChains\n",
    "from selenium.webdriver.support import expected_conditions as EC"
   ]
  },
  {
   "cell_type": "markdown",
   "id": "ae3d6750",
   "metadata": {
    "pycharm": {
     "name": "#%% md\n"
    }
   },
   "source": [
    "### Link of Pages"
   ]
  },
  {
   "cell_type": "code",
   "execution_count": 2,
   "id": "2a44b4cb",
   "metadata": {
    "pycharm": {
     "name": "#%%\n"
    }
   },
   "outputs": [],
   "source": [
    "#################################################################  Number of pages to scrap ####################################################################################\n",
    "num_pages_to_scrap = 225\n",
    "####################################  ##########################  Link of Second page as Example ###############################################################################\n",
    "\n",
    "link_page_2_as_example = 'https://www.amazon.com/s?i=computers&rh=n%3A565108&fs=true&page=2&qid=1645999091&ref=sr_pg_2'\n",
    "###################################################################  Links of pages #################################################################################\n",
    "\n",
    "pattern_of_urls = re.sub(r'&page=\\d','&page={}',str(link_page_2_as_example))\n",
    "pattern_of_urls = re.sub(r'&ref=sr_pg_\\d','',str(pattern_of_urls))\n",
    "\n",
    "links = [\n",
    "    pattern_of_urls.format(page_num) for page_num in range(1, num_pages_to_scrap+1)\n",
    "        ]"
   ]
  },
  {
   "cell_type": "code",
   "execution_count": 3,
   "id": "4f0cb0c4",
   "metadata": {
    "pycharm": {
     "name": "#%%\n"
    }
   },
   "outputs": [
    {
     "name": "stderr",
     "output_type": "stream",
     "text": [
      "C:\\Users\\Farshad\\AppData\\Local\\Temp/ipykernel_6256/1679463407.py:10: DeprecationWarning: use options instead of chrome_options\n",
      "  driver = webdriver.Chrome(chrome_options=chrome_options)\n"
     ]
    },
    {
     "name": "stdout",
     "output_type": "stream",
     "text": [
      "You are in page:  1\n",
      "You are in page:  15\n",
      "You are in page:  30\n",
      "You are in page:  45\n",
      "You are in page:  60\n",
      "You are in page:  75\n",
      "You are in page:  90\n",
      "You are in page:  105\n",
      "You are in page:  120\n",
      "You are in page:  135\n",
      "You are in page:  150\n",
      "You are in page:  165\n",
      "You are in page:  180\n",
      "You are in page:  195\n",
      "You are in page:  210\n",
      "You are in page:  225\n"
     ]
    }
   ],
   "source": [
    "###################################################################  Start Scraping ###########################################################################################\n",
    "####################################################  Prevent to load pictures(because we don't need them) to scrap faster ####################################################\n",
    "\n",
    "chrome_options = webdriver.ChromeOptions()\n",
    "prefs = {\"profile.managed_default_content_settings.images\": 2}\n",
    "chrome_options.add_experimental_option(\"prefs\", prefs)\n",
    "\n",
    "###############################################################################################################################################################################\n",
    "\n",
    "driver = webdriver.Chrome(chrome_options=chrome_options)\n",
    "driver.get(links[0])\n",
    "driver.maximize_window()\n",
    "\n",
    "lst_of_products = []\n",
    "num_current_page = 1\n",
    "print('You are in page: ' , num_current_page)\n",
    "while num_current_page <= num_pages_to_scrap :\n",
    "    if (num_current_page % 15 == 0):\n",
    "        print('You are in page: ' , num_current_page)\n",
    "    driver.get(links[num_current_page-1])\n",
    "    divs_item_on_page = driver.find_elements(by=By.CSS_SELECTOR, value='.s-card-border')\n",
    "    for div_item in divs_item_on_page:\n",
    "        current_dict = {}\n",
    "        ActionChains(driver) \\\n",
    "            .key_down(Keys.CONTROL) \\\n",
    "            .click(div_item) \\\n",
    "            .key_up(Keys.CONTROL) \\\n",
    "            .perform()\n",
    "        driver.switch_to.window(driver.window_handles[-1])\n",
    "        #time.sleep(1)\n",
    "################################################### now You are in New tab!(Product Tab) #######################################################################\n",
    "        see_more_btn = driver.find_elements(by=By.CSS_SELECTOR, value='#poToggleButton .a-expander-prompt')\n",
    "        if len(see_more_btn) != 0:\n",
    "            see_more_btn[0].click()\n",
    "\n",
    "##############################################################################  Title  #############################################################################\n",
    "        title_value = driver.find_elements(by=By.CSS_SELECTOR, value='#productTitle')\n",
    "        if len(title_value) != 0 :\n",
    "            current_dict.update({'title':title_value[0].text})\n",
    "\n",
    "########################################################################Info in the table on the top#################################################################\n",
    "        top_table = driver.find_elements(by=By.CSS_SELECTOR, value='.a-normal')\n",
    "        if len(top_table) != 0:\n",
    "            top_table_rows = top_table[0].find_elements(by=By.CSS_SELECTOR,value='tr')\n",
    "            for row in top_table_rows:\n",
    "                row_title_value = row.find_elements(by=By.CSS_SELECTOR, value='td')\n",
    "                row_title = row_title_value[0].text.lower().replace(' ', '_')\n",
    "                row_info = row_title_value[1].text\n",
    "                current_dict.update({row_title: row_info})\n",
    "\n",
    "####################################################Info in the table on the bottom of the page#####################################################################\n",
    "        bottom_table_rows = driver.find_elements(by=By.CSS_SELECTOR, value='#productDetails_feature_div tr')\n",
    "        if len(bottom_table_rows) != 0:\n",
    "            for row in bottom_table_rows:\n",
    "                row_title = row.find_elements(by=By.CSS_SELECTOR, value='th')[0]\n",
    "                row_value = row.find_elements(by=By.CSS_SELECTOR, value='td')[0]\n",
    "                row_title = row_title.text.lower().replace(' ', '_')\n",
    "                row_info = row_value.text\n",
    "                current_dict.update({row_title: row_info})\n",
    "\n",
    "############################################## Data In Comparison Table (Fetch First Column Info's)##################################################################\n",
    "        comparison_rows = driver.find_elements(by=By.CSS_SELECTOR, value='#HLCXComparisonWidget_feature_div table tr')\n",
    "        if len(comparison_rows) != 0:\n",
    "            desired_rows = comparison_rows[4:]\n",
    "            for row in desired_rows:\n",
    "                row_title = row.find_elements(by=By.CSS_SELECTOR, value='th')[0]\n",
    "                row_value = row.find_elements(by=By.CSS_SELECTOR, value='td')[0]\n",
    "                row_title = row_title.text.lower().replace(' ', '_')\n",
    "                row_info = row_value.text\n",
    "                current_dict.update({row_title: row_info})\n",
    "\n",
    "############################################################################      Stars           ##################################################################\n",
    "        stars = driver.find_elements(by=By.XPATH, value='//div[@class=\"a-section a-spacing-none a-spacing-top-mini cr-widget-ACR\"]')\n",
    "        if len(stars)!= 0:\n",
    "            current_dict.update({'stars': stars[0].text[:3]})\n",
    "############################################################################      Price           ##################################################################\n",
    "        price = driver.find_elements(by=By.CSS_SELECTOR, value='#corePrice_feature_div span')\n",
    "        if len(price)!= 0:\n",
    "            current_dict.update({'price': price[-1].text})\n",
    "######################################## End of Scraping Product page!Now close the Product page and Switch to Main page  ##########################################\n",
    "        lst_of_products.append(current_dict)\n",
    "        driver.execute_script(\"window.close()\")\n",
    "        driver.switch_to.window(driver.window_handles[0])\n",
    "\n",
    "################################################## prepare next URL(next page)  #################################################################################\n",
    "    num_current_page = num_current_page + 1\n",
    "###################################################  End of Scraping  #######################################################################################"
   ]
  },
  {
   "cell_type": "code",
   "execution_count": 98,
   "id": "1b869f51",
   "metadata": {
    "pycharm": {
     "name": "#%%\n"
    }
   },
   "outputs": [
    {
     "data": {
      "text/plain": "              asin audio-out_ports_(#) average_battery_life_(in_hours)  \\\n0  NaN         NaN                 NaN                             NaN   \n1  NaN         NaN                 NaN                             NaN   \n2       B09HVC79PC                 NaN                        10 Hours   \n3              NaN                 NaN                             NaN   \n4       B09BG96KFJ                 NaN                        12 Hours   \n\n                                          batteries batteries_included?  \\\n0                                               NaN                 NaN   \n1                                               NaN                 NaN   \n2      1 Lithium ion batteries required. (included)                 NaN   \n3                                               NaN                 NaN   \n4  1 Lithium Polymer batteries required. (included)                 NaN   \n\n  batteries_required? battery_cell_composition battery_cell_type  \\\n0                 NaN                      NaN               NaN   \n1                 NaN                      NaN               NaN   \n2                 NaN                      NaN               NaN   \n3                 NaN                      NaN               NaN   \n4                 NaN                      NaN               NaN   \n\n                                   best_sellers_rank  ...  \\\n0                                                NaN  ...   \n1                                                NaN  ...   \n2  #23 in Computers & Accessories (See Top 100 in...  ...   \n3                                                NaN  ...   \n4  #31 in Computers & Accessories (See Top 100 in...  ...   \n\n  tech_spec_battery_description_toys  \\\n0                                NaN   \n1                                NaN   \n2                                NaN   \n3                                NaN   \n4                                NaN   \n\n                                               title total_usb_ports usage  \\\n0                                                NaN             NaN   NaN   \n1                                                NaN             NaN   NaN   \n2  Acer Aspire 5 A515-46-R3UB | 15.6\" Full HD IPS...             NaN   NaN   \n3  2021 Apple MacBook Pro (14-inch, Apple M1 Pro ...             NaN   NaN   \n4  Lenovo Flex 5 Laptop, 14.0\" FHD Touch Display,...             NaN   NaN   \n\n  voltage warranty_description wireless_communication_standard  \\\n0     NaN                  NaN                             NaN   \n1     NaN                  NaN                             NaN   \n2     NaN                  NaN                       Bluetooth   \n3     NaN                  NaN                             NaN   \n4     NaN                  NaN                        802.11ac   \n\n  wireless_communication_technology wireless_type year  \n0                               NaN           NaN  NaN  \n1                               NaN           NaN  NaN  \n2                               NaN     Bluetooth  NaN  \n3                               NaN           NaN  NaN  \n4                               NaN      802.11ac  NaN  \n\n[5 rows x 120 columns]",
      "text/html": "<div>\n<style scoped>\n    .dataframe tbody tr th:only-of-type {\n        vertical-align: middle;\n    }\n\n    .dataframe tbody tr th {\n        vertical-align: top;\n    }\n\n    .dataframe thead th {\n        text-align: right;\n    }\n</style>\n<table border=\"1\" class=\"dataframe\">\n  <thead>\n    <tr style=\"text-align: right;\">\n      <th></th>\n      <th></th>\n      <th>asin</th>\n      <th>audio-out_ports_(#)</th>\n      <th>average_battery_life_(in_hours)</th>\n      <th>batteries</th>\n      <th>batteries_included?</th>\n      <th>batteries_required?</th>\n      <th>battery_cell_composition</th>\n      <th>battery_cell_type</th>\n      <th>best_sellers_rank</th>\n      <th>...</th>\n      <th>tech_spec_battery_description_toys</th>\n      <th>title</th>\n      <th>total_usb_ports</th>\n      <th>usage</th>\n      <th>voltage</th>\n      <th>warranty_description</th>\n      <th>wireless_communication_standard</th>\n      <th>wireless_communication_technology</th>\n      <th>wireless_type</th>\n      <th>year</th>\n    </tr>\n  </thead>\n  <tbody>\n    <tr>\n      <th>0</th>\n      <td>NaN</td>\n      <td>NaN</td>\n      <td>NaN</td>\n      <td>NaN</td>\n      <td>NaN</td>\n      <td>NaN</td>\n      <td>NaN</td>\n      <td>NaN</td>\n      <td>NaN</td>\n      <td>NaN</td>\n      <td>...</td>\n      <td>NaN</td>\n      <td>NaN</td>\n      <td>NaN</td>\n      <td>NaN</td>\n      <td>NaN</td>\n      <td>NaN</td>\n      <td>NaN</td>\n      <td>NaN</td>\n      <td>NaN</td>\n      <td>NaN</td>\n    </tr>\n    <tr>\n      <th>1</th>\n      <td>NaN</td>\n      <td>NaN</td>\n      <td>NaN</td>\n      <td>NaN</td>\n      <td>NaN</td>\n      <td>NaN</td>\n      <td>NaN</td>\n      <td>NaN</td>\n      <td>NaN</td>\n      <td>NaN</td>\n      <td>...</td>\n      <td>NaN</td>\n      <td>NaN</td>\n      <td>NaN</td>\n      <td>NaN</td>\n      <td>NaN</td>\n      <td>NaN</td>\n      <td>NaN</td>\n      <td>NaN</td>\n      <td>NaN</td>\n      <td>NaN</td>\n    </tr>\n    <tr>\n      <th>2</th>\n      <td></td>\n      <td>B09HVC79PC</td>\n      <td>NaN</td>\n      <td>10 Hours</td>\n      <td>1 Lithium ion batteries required. (included)</td>\n      <td>NaN</td>\n      <td>NaN</td>\n      <td>NaN</td>\n      <td>NaN</td>\n      <td>#23 in Computers &amp; Accessories (See Top 100 in...</td>\n      <td>...</td>\n      <td>NaN</td>\n      <td>Acer Aspire 5 A515-46-R3UB | 15.6\" Full HD IPS...</td>\n      <td>NaN</td>\n      <td>NaN</td>\n      <td>NaN</td>\n      <td>NaN</td>\n      <td>Bluetooth</td>\n      <td>NaN</td>\n      <td>Bluetooth</td>\n      <td>NaN</td>\n    </tr>\n    <tr>\n      <th>3</th>\n      <td></td>\n      <td>NaN</td>\n      <td>NaN</td>\n      <td>NaN</td>\n      <td>NaN</td>\n      <td>NaN</td>\n      <td>NaN</td>\n      <td>NaN</td>\n      <td>NaN</td>\n      <td>NaN</td>\n      <td>...</td>\n      <td>NaN</td>\n      <td>2021 Apple MacBook Pro (14-inch, Apple M1 Pro ...</td>\n      <td>NaN</td>\n      <td>NaN</td>\n      <td>NaN</td>\n      <td>NaN</td>\n      <td>NaN</td>\n      <td>NaN</td>\n      <td>NaN</td>\n      <td>NaN</td>\n    </tr>\n    <tr>\n      <th>4</th>\n      <td></td>\n      <td>B09BG96KFJ</td>\n      <td>NaN</td>\n      <td>12 Hours</td>\n      <td>1 Lithium Polymer batteries required. (included)</td>\n      <td>NaN</td>\n      <td>NaN</td>\n      <td>NaN</td>\n      <td>NaN</td>\n      <td>#31 in Computers &amp; Accessories (See Top 100 in...</td>\n      <td>...</td>\n      <td>NaN</td>\n      <td>Lenovo Flex 5 Laptop, 14.0\" FHD Touch Display,...</td>\n      <td>NaN</td>\n      <td>NaN</td>\n      <td>NaN</td>\n      <td>NaN</td>\n      <td>802.11ac</td>\n      <td>NaN</td>\n      <td>802.11ac</td>\n      <td>NaN</td>\n    </tr>\n  </tbody>\n</table>\n<p>5 rows × 120 columns</p>\n</div>"
     },
     "execution_count": 98,
     "metadata": {},
     "output_type": "execute_result"
    }
   ],
   "source": [
    "###########################################  Unique Feature names of products  ##############################################################################\n",
    "all_features_for_all_products = []\n",
    "for product in lst_of_products:\n",
    "    current_product_features = list(product.keys())\n",
    "    all_features_for_all_products.extend(current_product_features)\n",
    "    all_features_for_all_products = list(set(all_features_for_all_products))\n",
    "    all_features_for_all_products.sort()\n",
    "\n",
    "######################################################## Create Numpy Matrix of string #####################################################################\n",
    "number_of_products = len(lst_of_products)\n",
    "number_of_columns = len(all_features_for_all_products)\n",
    "numpy_table = np.empty((number_of_products,number_of_columns,), dtype=object)\n",
    "numpy_table[:] = np.nan\n",
    "\n",
    "for product_row,item in enumerate(lst_of_products):\n",
    "    for key in item:\n",
    "        col_number = all_features_for_all_products.index(key)\n",
    "        numpy_table[product_row,col_number] = item[key]\n",
    "\n",
    "\n",
    "####################################################  Create Pandas DataFrame ################################################################################\n",
    "data = pd.DataFrame(numpy_table,columns=all_features_for_all_products)\n",
    "data.head()"
   ]
  },
  {
   "cell_type": "markdown",
   "source": [
    "##### Primary Table Shape"
   ],
   "metadata": {
    "collapsed": false,
    "pycharm": {
     "name": "#%% md\n"
    }
   }
  },
  {
   "cell_type": "code",
   "execution_count": 99,
   "outputs": [
    {
     "name": "stdout",
     "output_type": "stream",
     "text": [
      "number of rows in DataFrame is 5388 and numer of columns is 120\n"
     ]
    }
   ],
   "source": [
    "print(f'number of rows in DataFrame is {data.shape[0]} and numer of columns is {data.shape[1]}')"
   ],
   "metadata": {
    "collapsed": false,
    "pycharm": {
     "name": "#%%\n"
    }
   }
  },
  {
   "cell_type": "markdown",
   "id": "b6d8a63e",
   "metadata": {
    "pycharm": {
     "name": "#%% md\n"
    }
   },
   "source": [
    "##### as we see, this code was not only for laptop :))\n",
    "##### now we have our table, and after **Data Cleaning**, we could do some stuff like Predictive analytics and Descriptive analytics"
   ]
  },
  {
   "cell_type": "markdown",
   "id": "cf97979b",
   "metadata": {
    "pycharm": {
     "name": "#%% md\n"
    }
   },
   "source": [
    "# Some General Data Cleaning Steps"
   ]
  },
  {
   "cell_type": "markdown",
   "id": "8c482d6b",
   "metadata": {
    "pycharm": {
     "name": "#%% md\n"
    }
   },
   "source": [
    "#### 1.Replace empty string ('') cells with NaN"
   ]
  },
  {
   "cell_type": "code",
   "execution_count": 100,
   "id": "96695c5a",
   "metadata": {
    "pycharm": {
     "name": "#%%\n"
    }
   },
   "outputs": [],
   "source": [
    "new_df = data.replace(r'^\\s*$', np.NaN, regex=True)"
   ]
  },
  {
   "cell_type": "markdown",
   "id": "35ed081c",
   "metadata": {},
   "source": [
    "#### 2.Drop Rows which all their values are NaN"
   ]
  },
  {
   "cell_type": "code",
   "execution_count": 101,
   "id": "cfc1ab26",
   "metadata": {
    "pycharm": {
     "name": "#%%\n"
    }
   },
   "outputs": [],
   "source": [
    "new_df.dropna(how='all',inplace=True)"
   ]
  },
  {
   "cell_type": "markdown",
   "id": "07a1c142",
   "metadata": {},
   "source": [
    "#### 3.Drop columns which more than 50% of them is Null"
   ]
  },
  {
   "cell_type": "code",
   "execution_count": 102,
   "id": "5ce83c16",
   "metadata": {
    "pycharm": {
     "name": "#%%\n"
    }
   },
   "outputs": [],
   "source": [
    "new_df = new_df.loc[:, new_df.isnull().mean() < 0.5]"
   ]
  },
  {
   "cell_type": "markdown",
   "id": "e50611b8",
   "metadata": {
    "pycharm": {
     "name": "#%% md\n"
    }
   },
   "source": [
    "#### 4.Drop rows which more than 50% of them is Null"
   ]
  },
  {
   "cell_type": "code",
   "execution_count": 103,
   "id": "416fceb0",
   "metadata": {
    "pycharm": {
     "name": "#%%\n"
    }
   },
   "outputs": [],
   "source": [
    "new_df = new_df[new_df.isnull().mean(axis=1) < 0.5]"
   ]
  },
  {
   "cell_type": "markdown",
   "source": [
    "#### 5.Remove Duplicate rows"
   ],
   "metadata": {
    "collapsed": false,
    "pycharm": {
     "name": "#%% md\n"
    }
   }
  },
  {
   "cell_type": "code",
   "execution_count": 104,
   "outputs": [],
   "source": [
    "new_df = new_df.drop_duplicates()"
   ],
   "metadata": {
    "collapsed": false,
    "pycharm": {
     "name": "#%%\n"
    }
   }
  },
  {
   "cell_type": "markdown",
   "id": "7b0ea50f",
   "metadata": {
    "pycharm": {
     "name": "#%% md\n"
    }
   },
   "source": [
    "## Secondary Table"
   ]
  },
  {
   "cell_type": "code",
   "execution_count": 105,
   "id": "16dbeb96",
   "metadata": {
    "pycharm": {
     "name": "#%%\n"
    }
   },
   "outputs": [
    {
     "data": {
      "text/plain": "          asin                                  best_sellers_rank   brand  \\\n2   B09HVC79PC  #23 in Computers & Accessories (See Top 100 in...    Acer   \n4   B09BG96KFJ  #31 in Computers & Accessories (See Top 100 in...  Lenovo   \n5   B09FXFDGN3  #72 in Computers & Accessories (See Top 100 in...      HP   \n6   B092YHJLS6  #189 in Computers & Accessories (See Top 100 i...    Acer   \n7   B09G8SK2KK  #275 in Computers & Accessories (See Top 100 i...      HP   \n8   B09FX1YF28  #345 in Computers & Accessories (See Top 100 i...      HP   \n9   B09127DDVT  #525 in Computers & Accessories (See Top 100 i...     MSI   \n10  B09BDGD2TZ  #457 in Computers & Accessories (See Top 100 i...  Lenovo   \n11  B09HX29TPY  #261 in Computers & Accessories (See Top 100 i...    ASUS   \n12  B08XPC3WFQ  #640 in Computers & Accessories (See Top 100 i...    ASUS   \n\n       card_description           chipset_brand                    color  \\\n2            Integrated                     AMD                   Silver   \n4            Integrated                     AMD            Graphite Grey   \n5            Integrated                   Intel           Natural silver   \n6              RTX 3060                  NVIDIA                    Black   \n7            Integrated                     AMD           Natural silver   \n8            Integrated  Intel Iris Xe Graphics  Natural silver aluminum   \n9             Dedicated                  NVIDIA               Core Black   \n10            Dedicated                  NVIDIA             Phantom Blue   \n11           Integrated                   Intel               Star Black   \n12  GeForce RTX 3050 Ti                  NVIDIA             Eclipse Grey   \n\n   computer_memory_size computer_memory_type cpu_model_manufacturer cpu_speed  \\\n2                  4 GB           DDR4 SDRAM                    AMD   3.5 GHz   \n4                 16 GB           DDR4 SDRAM                    AMD   2.1 GHz   \n5                8.0 GB           DDR4 SDRAM                  Intel   4.2 GHz   \n6                 16 GB           DDR4 SDRAM                  Intel   4.6 GHz   \n7                  8 GB           DDR4 SDRAM                    AMD     4 GHz   \n8                 16 GB           DDR4 SDRAM                  Intel   4.7 GHz   \n9                 16 GB                  NaN                  Intel   2.4 GHz   \n10                16 GB                  NaN                    AMD       3.2   \n11                 4 GB           DDR4 SDRAM                  Intel   2.8 GHz   \n12                 8 GB           DDR4 SDRAM                  Intel   4.8 GHz   \n\n    ...         ram    ram_type  screen_size                          series  \\\n2   ...   4 GB DDR4  DDR4 SDRAM  15.6 inches                    A515-46-R3UB   \n4   ...  16 GB DDR4  DDR4 SDRAM    14 inches        Ideapad Flex 5 14 Laptop   \n5   ...   8 GB DDR4  DDR4 SDRAM  15.6 inches                    HP 15 Laptop   \n6   ...  16 GB DDR4  DDR4 SDRAM  15.6 inches                   PH315-54-760S   \n7   ...   8 GB DDR4  DDR4 SDRAM    14 inches           HP Laptop 14-fq1025nr   \n8   ...  16 GB DDR4  DDR4 SDRAM  15.6 inches  HP Pavilion Laptop 15-eg0025nr   \n9   ...  16 GB DDR4         NaN  15.6 inches            Pulse GL66 11UGK-001   \n10  ...  16 GB DDR4         NaN         15.6                     Legion 5 15   \n11  ...   4 GB DDR4  DDR4 SDRAM  11.6 inches                ASUS Laptop L210   \n12  ...   8 GB DDR4  DDR4 SDRAM  15.6 inches                   ASUS TUF Dash   \n\n                                            sold_by  \\\n2                                    ChiefComputers   \n4                    Best Electronics (SN Recorded)   \n5                                     ebestpurchase   \n6                           Midland Electronics LLC   \n7                       Tech Solution (SN Recorded)   \n8   GreatPriceTech (Expedite Shipping) (Record S/N)   \n9                                 ElectroTechOutlet   \n10                                        antonline   \n11                         Cardinal Pro Electronics   \n12                                     BatzmaruEbiz   \n\n   standing_screen_display_size stars  \\\n2                   15.6 Inches   4.6   \n4                     14 Inches   4.5   \n5                   15.6 Inches   4.4   \n6                   15.6 Inches   4.6   \n7                     14 Inches   4.5   \n8                   15.6 Inches   4.5   \n9                   15.6 Inches   4.5   \n10                         15.6   4.6   \n11                  11.6 Inches   3.9   \n12                  15.6 Inches   4.5   \n\n                                                title  \\\n2   Acer Aspire 5 A515-46-R3UB | 15.6\" Full HD IPS...   \n4   Lenovo Flex 5 Laptop, 14.0\" FHD Touch Display,...   \n5   HP 15-inch Laptop, 11th Generation Intel Core ...   \n6   Acer Predator Helios 300 PH315-54-760S Gaming ...   \n7   HP 14 Laptop, AMD Ryzen 5 5500U, 8 GB RAM, 256...   \n8   HP Pavilion 15 Laptop, 11th Gen Intel Core i7-...   \n9   MSI GL66 Gaming Laptop: 15.6\" 144Hz FHD 1080p ...   \n10  Lenovo Legion 5 Gaming Laptop, 15.6\" FHD Displ...   \n11  ASUS Laptop L210 11.6” Ultra Thin, Intel Celer...   \n12  ASUS TUF Dash 15 (2021) Ultra Slim Gaming Lapt...   \n\n   wireless_communication_standard        wireless_type  \n2                        Bluetooth            Bluetooth  \n4                         802.11ac             802.11ac  \n5              Bluetooth, 802.11ax  Bluetooth, 802.11ax  \n6                         802.11ax             802.11ax  \n7              802.11ax, Bluetooth  Bluetooth, 802.11ax  \n8              Bluetooth, 802.11ax  Bluetooth, 802.11ax  \n9                        Bluetooth            Bluetooth  \n10                        802.11ax             802.11ax  \n11             Bluetooth, 802.11ac  Bluetooth, 802.11ac  \n12             802.11ax, Bluetooth  Bluetooth, 802.11ax  \n\n[10 rows x 42 columns]",
      "text/html": "<div>\n<style scoped>\n    .dataframe tbody tr th:only-of-type {\n        vertical-align: middle;\n    }\n\n    .dataframe tbody tr th {\n        vertical-align: top;\n    }\n\n    .dataframe thead th {\n        text-align: right;\n    }\n</style>\n<table border=\"1\" class=\"dataframe\">\n  <thead>\n    <tr style=\"text-align: right;\">\n      <th></th>\n      <th>asin</th>\n      <th>best_sellers_rank</th>\n      <th>brand</th>\n      <th>card_description</th>\n      <th>chipset_brand</th>\n      <th>color</th>\n      <th>computer_memory_size</th>\n      <th>computer_memory_type</th>\n      <th>cpu_model_manufacturer</th>\n      <th>cpu_speed</th>\n      <th>...</th>\n      <th>ram</th>\n      <th>ram_type</th>\n      <th>screen_size</th>\n      <th>series</th>\n      <th>sold_by</th>\n      <th>standing_screen_display_size</th>\n      <th>stars</th>\n      <th>title</th>\n      <th>wireless_communication_standard</th>\n      <th>wireless_type</th>\n    </tr>\n  </thead>\n  <tbody>\n    <tr>\n      <th>2</th>\n      <td>B09HVC79PC</td>\n      <td>#23 in Computers &amp; Accessories (See Top 100 in...</td>\n      <td>Acer</td>\n      <td>Integrated</td>\n      <td>AMD</td>\n      <td>Silver</td>\n      <td>4 GB</td>\n      <td>DDR4 SDRAM</td>\n      <td>AMD</td>\n      <td>3.5 GHz</td>\n      <td>...</td>\n      <td>4 GB DDR4</td>\n      <td>DDR4 SDRAM</td>\n      <td>15.6 inches</td>\n      <td>A515-46-R3UB</td>\n      <td>ChiefComputers</td>\n      <td>15.6 Inches</td>\n      <td>4.6</td>\n      <td>Acer Aspire 5 A515-46-R3UB | 15.6\" Full HD IPS...</td>\n      <td>Bluetooth</td>\n      <td>Bluetooth</td>\n    </tr>\n    <tr>\n      <th>4</th>\n      <td>B09BG96KFJ</td>\n      <td>#31 in Computers &amp; Accessories (See Top 100 in...</td>\n      <td>Lenovo</td>\n      <td>Integrated</td>\n      <td>AMD</td>\n      <td>Graphite Grey</td>\n      <td>16 GB</td>\n      <td>DDR4 SDRAM</td>\n      <td>AMD</td>\n      <td>2.1 GHz</td>\n      <td>...</td>\n      <td>16 GB DDR4</td>\n      <td>DDR4 SDRAM</td>\n      <td>14 inches</td>\n      <td>Ideapad Flex 5 14 Laptop</td>\n      <td>Best Electronics (SN Recorded)</td>\n      <td>14 Inches</td>\n      <td>4.5</td>\n      <td>Lenovo Flex 5 Laptop, 14.0\" FHD Touch Display,...</td>\n      <td>802.11ac</td>\n      <td>802.11ac</td>\n    </tr>\n    <tr>\n      <th>5</th>\n      <td>B09FXFDGN3</td>\n      <td>#72 in Computers &amp; Accessories (See Top 100 in...</td>\n      <td>HP</td>\n      <td>Integrated</td>\n      <td>Intel</td>\n      <td>Natural silver</td>\n      <td>8.0 GB</td>\n      <td>DDR4 SDRAM</td>\n      <td>Intel</td>\n      <td>4.2 GHz</td>\n      <td>...</td>\n      <td>8 GB DDR4</td>\n      <td>DDR4 SDRAM</td>\n      <td>15.6 inches</td>\n      <td>HP 15 Laptop</td>\n      <td>ebestpurchase</td>\n      <td>15.6 Inches</td>\n      <td>4.4</td>\n      <td>HP 15-inch Laptop, 11th Generation Intel Core ...</td>\n      <td>Bluetooth, 802.11ax</td>\n      <td>Bluetooth, 802.11ax</td>\n    </tr>\n    <tr>\n      <th>6</th>\n      <td>B092YHJLS6</td>\n      <td>#189 in Computers &amp; Accessories (See Top 100 i...</td>\n      <td>Acer</td>\n      <td>RTX 3060</td>\n      <td>NVIDIA</td>\n      <td>Black</td>\n      <td>16 GB</td>\n      <td>DDR4 SDRAM</td>\n      <td>Intel</td>\n      <td>4.6 GHz</td>\n      <td>...</td>\n      <td>16 GB DDR4</td>\n      <td>DDR4 SDRAM</td>\n      <td>15.6 inches</td>\n      <td>PH315-54-760S</td>\n      <td>Midland Electronics LLC</td>\n      <td>15.6 Inches</td>\n      <td>4.6</td>\n      <td>Acer Predator Helios 300 PH315-54-760S Gaming ...</td>\n      <td>802.11ax</td>\n      <td>802.11ax</td>\n    </tr>\n    <tr>\n      <th>7</th>\n      <td>B09G8SK2KK</td>\n      <td>#275 in Computers &amp; Accessories (See Top 100 i...</td>\n      <td>HP</td>\n      <td>Integrated</td>\n      <td>AMD</td>\n      <td>Natural silver</td>\n      <td>8 GB</td>\n      <td>DDR4 SDRAM</td>\n      <td>AMD</td>\n      <td>4 GHz</td>\n      <td>...</td>\n      <td>8 GB DDR4</td>\n      <td>DDR4 SDRAM</td>\n      <td>14 inches</td>\n      <td>HP Laptop 14-fq1025nr</td>\n      <td>Tech Solution (SN Recorded)</td>\n      <td>14 Inches</td>\n      <td>4.5</td>\n      <td>HP 14 Laptop, AMD Ryzen 5 5500U, 8 GB RAM, 256...</td>\n      <td>802.11ax, Bluetooth</td>\n      <td>Bluetooth, 802.11ax</td>\n    </tr>\n    <tr>\n      <th>8</th>\n      <td>B09FX1YF28</td>\n      <td>#345 in Computers &amp; Accessories (See Top 100 i...</td>\n      <td>HP</td>\n      <td>Integrated</td>\n      <td>Intel Iris Xe Graphics</td>\n      <td>Natural silver aluminum</td>\n      <td>16 GB</td>\n      <td>DDR4 SDRAM</td>\n      <td>Intel</td>\n      <td>4.7 GHz</td>\n      <td>...</td>\n      <td>16 GB DDR4</td>\n      <td>DDR4 SDRAM</td>\n      <td>15.6 inches</td>\n      <td>HP Pavilion Laptop 15-eg0025nr</td>\n      <td>GreatPriceTech (Expedite Shipping) (Record S/N)</td>\n      <td>15.6 Inches</td>\n      <td>4.5</td>\n      <td>HP Pavilion 15 Laptop, 11th Gen Intel Core i7-...</td>\n      <td>Bluetooth, 802.11ax</td>\n      <td>Bluetooth, 802.11ax</td>\n    </tr>\n    <tr>\n      <th>9</th>\n      <td>B09127DDVT</td>\n      <td>#525 in Computers &amp; Accessories (See Top 100 i...</td>\n      <td>MSI</td>\n      <td>Dedicated</td>\n      <td>NVIDIA</td>\n      <td>Core Black</td>\n      <td>16 GB</td>\n      <td>NaN</td>\n      <td>Intel</td>\n      <td>2.4 GHz</td>\n      <td>...</td>\n      <td>16 GB DDR4</td>\n      <td>NaN</td>\n      <td>15.6 inches</td>\n      <td>Pulse GL66 11UGK-001</td>\n      <td>ElectroTechOutlet</td>\n      <td>15.6 Inches</td>\n      <td>4.5</td>\n      <td>MSI GL66 Gaming Laptop: 15.6\" 144Hz FHD 1080p ...</td>\n      <td>Bluetooth</td>\n      <td>Bluetooth</td>\n    </tr>\n    <tr>\n      <th>10</th>\n      <td>B09BDGD2TZ</td>\n      <td>#457 in Computers &amp; Accessories (See Top 100 i...</td>\n      <td>Lenovo</td>\n      <td>Dedicated</td>\n      <td>NVIDIA</td>\n      <td>Phantom Blue</td>\n      <td>16 GB</td>\n      <td>NaN</td>\n      <td>AMD</td>\n      <td>3.2</td>\n      <td>...</td>\n      <td>16 GB DDR4</td>\n      <td>NaN</td>\n      <td>15.6</td>\n      <td>Legion 5 15</td>\n      <td>antonline</td>\n      <td>15.6</td>\n      <td>4.6</td>\n      <td>Lenovo Legion 5 Gaming Laptop, 15.6\" FHD Displ...</td>\n      <td>802.11ax</td>\n      <td>802.11ax</td>\n    </tr>\n    <tr>\n      <th>11</th>\n      <td>B09HX29TPY</td>\n      <td>#261 in Computers &amp; Accessories (See Top 100 i...</td>\n      <td>ASUS</td>\n      <td>Integrated</td>\n      <td>Intel</td>\n      <td>Star Black</td>\n      <td>4 GB</td>\n      <td>DDR4 SDRAM</td>\n      <td>Intel</td>\n      <td>2.8 GHz</td>\n      <td>...</td>\n      <td>4 GB DDR4</td>\n      <td>DDR4 SDRAM</td>\n      <td>11.6 inches</td>\n      <td>ASUS Laptop L210</td>\n      <td>Cardinal Pro Electronics</td>\n      <td>11.6 Inches</td>\n      <td>3.9</td>\n      <td>ASUS Laptop L210 11.6” Ultra Thin, Intel Celer...</td>\n      <td>Bluetooth, 802.11ac</td>\n      <td>Bluetooth, 802.11ac</td>\n    </tr>\n    <tr>\n      <th>12</th>\n      <td>B08XPC3WFQ</td>\n      <td>#640 in Computers &amp; Accessories (See Top 100 i...</td>\n      <td>ASUS</td>\n      <td>GeForce RTX 3050 Ti</td>\n      <td>NVIDIA</td>\n      <td>Eclipse Grey</td>\n      <td>8 GB</td>\n      <td>DDR4 SDRAM</td>\n      <td>Intel</td>\n      <td>4.8 GHz</td>\n      <td>...</td>\n      <td>8 GB DDR4</td>\n      <td>DDR4 SDRAM</td>\n      <td>15.6 inches</td>\n      <td>ASUS TUF Dash</td>\n      <td>BatzmaruEbiz</td>\n      <td>15.6 Inches</td>\n      <td>4.5</td>\n      <td>ASUS TUF Dash 15 (2021) Ultra Slim Gaming Lapt...</td>\n      <td>802.11ax, Bluetooth</td>\n      <td>Bluetooth, 802.11ax</td>\n    </tr>\n  </tbody>\n</table>\n<p>10 rows × 42 columns</p>\n</div>"
     },
     "execution_count": 105,
     "metadata": {},
     "output_type": "execute_result"
    }
   ],
   "source": [
    "new_df.head(10)"
   ]
  },
  {
   "cell_type": "markdown",
   "id": "c54ecade",
   "metadata": {
    "pycharm": {
     "name": "#%% md\n"
    }
   },
   "source": [
    "##### Secondary table shape"
   ]
  },
  {
   "cell_type": "code",
   "execution_count": 106,
   "id": "ec4608f9",
   "metadata": {
    "pycharm": {
     "name": "#%%\n"
    }
   },
   "outputs": [
    {
     "name": "stdout",
     "output_type": "stream",
     "text": [
      "Number of rows in DataFrame is 4568 and numer of columns is 42\n"
     ]
    }
   ],
   "source": [
    "print(f'Number of rows in DataFrame is {new_df.shape[0]} and numer of columns is {new_df.shape[1]}')"
   ]
  },
  {
   "cell_type": "markdown",
   "source": [
    "#### These Steps were General steps for Data Cleaning\n",
    "#### For specific Category of Data(for example Laptop,Cellphone,Headphone and ...) we could apply more specific Data cleaning methods(base on the product columns)\n",
    "<br/>\n",
    "<hr/>"
   ],
   "metadata": {
    "collapsed": false
   }
  },
  {
   "cell_type": "markdown",
   "source": [
    "##### Now ,as an Example , we want to find the rows(products) which their Title contains 'Nitro 5'"
   ],
   "metadata": {
    "collapsed": false
   }
  },
  {
   "cell_type": "code",
   "execution_count": 107,
   "outputs": [
    {
     "data": {
      "text/plain": "            asin                                  best_sellers_rank brand  \\\n170   B08YZ6Z1G3  #3,228 in Computers & Accessories (See Top 100...  Acer   \n505   B08YZ52KK1  #23,706 in Computers & Accessories (See Top 10...  Acer   \n575   B08YZ1V9WP  #9,174 in Computers & Accessories (See Top 100...  Acer   \n832   B08C1LB2S9  #15,583 in Computers & Accessories (See Top 10...  Acer   \n1022  B09B2SP417  #15,343 in Computers & Accessories (See Top 10...  Acer   \n1026  B08J3XSXQ5  #14,263 in Computers & Accessories (See Top 10...  Acer   \n1245  B09GVTFM4Q  #13,220 in Computers & Accessories (See Top 10...  Acer   \n1615  B09ST8HR27  #29,871 in Computers & Accessories (See Top 10...  Acer   \n1962  B087RSQGSV  #30,877 in Computers & Accessories (See Top 10...  Acer   \n3216  B08JKYY74G  #74,376 in Computers & Accessories (See Top 10...  Acer   \n3867  B09MFXY2Q8                                                NaN  Acer   \n4107  B097DRC1WS  #143,920 in Computers & Accessories (See Top 1...  Acer   \n4652  B084MLZPBN  #238,833 in Computers & Accessories (See Top 1...  Acer   \n\n     card_description chipset_brand                    color  \\\n170         Dedicated        NVIDIA                    Black   \n505         Dedicated        NVIDIA                    Black   \n575         Dedicated        NVIDIA                    Black   \n832         Dedicated        NVIDIA                    Black   \n1022        Dedicated        NVIDIA                      NaN   \n1026        Dedicated        NVIDIA                      NaN   \n1245        Dedicated        NVIDIA  RTX 3050 | 16GB | 512GB   \n1615        Dedicated        NVIDIA                      NaN   \n1962        Dedicated        NVIDIA                      NaN   \n3216        Dedicated        NVIDIA           Obsidian Black   \n3867        Dedicated        NVIDIA              Shale Black   \n4107        Dedicated        NVIDIA                      NaN   \n4652        Dedicated           AMD                      NaN   \n\n     computer_memory_size computer_memory_type cpu_model_manufacturer  \\\n170                 16 GB                  NaN                    AMD   \n505                 32 GB                  NaN                    AMD   \n575                 16 GB           DDR4 SDRAM                    AMD   \n832                  8 GB           DDR4 SDRAM                  Intel   \n1022              16.0 GB           DDR4 SDRAM                  Intel   \n1026                 8 GB           DDR4 SDRAM                    AMD   \n1245                16 GB           DDR4 SDRAM                  Intel   \n1615                  NaN           DDR4 SDRAM                    NaN   \n1962                16 GB           DDR4 SDRAM                  Intel   \n3216                 8 GB               SODIMM                  Intel   \n3867              16.0 GB                  NaN                  Intel   \n4107               8.0 GB                  NaN                  Intel   \n4652                 8 GB               SODIMM                    AMD   \n\n     cpu_speed  ...           ram    ram_type  screen_size         series  \\\n170    4.4 GHz  ...    16 GB DDR4         NaN  15.6 inches  AN515-45-R92M   \n505    4.6 GHz  ...    32 GB DDR4         NaN  15.6 inches  AN515-45-R9QH   \n575    4.4 GHz  ...    16 GB DDR4  DDR4 SDRAM  17.3 inches  AN517-41-R0RZ   \n832   4.10 GHz  ...     8 GB DDR4  DDR4 SDRAM  15.6 inches  AN515-54-5812   \n1022  4.50 GHz  ...    16 GB DDR4  DDR4 SDRAM  15.6 inches     Acer Nitro   \n1026  2.40 GHz  ...     8 GB DDR4  DDR4 SDRAM  15.6 inches            NaN   \n1245  2.50 GHz  ...    16 GB DDR3  DDR4 SDRAM  15.6 inches        Nitro 5   \n1615       NaN  ...    16 GB DDR4         NaN          NaN     Acer Nitro   \n1962   4.5 GHz  ...    16 GB DDR4  DDR4 SDRAM  17.3 inches  AN517-51-76V6   \n3216  4.50 GHz  ...  8 GB SO-DIMM      SODIMM  17.3 inches        Nitro 5   \n3867   2.4 GHz  ...    16 GB DDR4         NaN  17.3 inches  AN517-54-79L1   \n4107       NaN  ...     8 GB DDR4         NaN  15.6 inches     Acer Nitro   \n4652     2 GHz  ...  8 GB SO-DIMM      SODIMM  15.6 inches          Nitro   \n\n                           sold_by standing_screen_display_size stars  \\\n170        Midland Electronics LLC                  15.6 Inches   4 o   \n505            J-Tech Digital, Inc                  15.6 Inches   4.7   \n575                 High Tech Stop                  17.3 Inches   4.5   \n832       Cardinal Pro Electronics                  15.6 Inches   4.7   \n1022  Available from these sellers                  15.6 Inches   4.3   \n1026            VINE EXPRESS STORE                  15.6 Inches   4.6   \n1245  Available from these sellers                  15.6 Inches   4.2   \n1615                           NaN                  15.6 Inches   4.8   \n1962    Fulton Tech (We Record SN)                  17.3 Inches   4.6   \n3216        Prime Service For Less                  17.3 Inches   4.5   \n3867                    Amazon.com                  17.3 Inches   NaN   \n4107                    Amazon.com                  15.6 Inches   4.7   \n4652      Cardinal Pro Electronics                  15.6 Inches   5 o   \n\n                                                  title  \\\n170   Acer Nitro 5 AN515-45-R92M Gaming Laptop, AMD ...   \n505   Acer Nitro 5 AN515-45-R9QH Gaming Laptop, AMD ...   \n575   Acer Nitro 5 AN517-41-R0RZ Gaming Laptop, AMD ...   \n832   Acer Nitro 5 Gaming Laptop, 9th Gen Intel Core...   \n1022  Newest Acer Nitro 5 Gaming Laptop, NVIDIA GeFo...   \n1026  Acer Nitro 5 Gaming Laptop, 9th Gen Intel Core...   \n1245  Acer Nitro 5 AN515 Gaming Laptop | Intel Core ...   \n1615  Acer Nitro 5 Gaming Laptop 15.6” FHD IPS Displ...   \n1962  Acer Nitro 5 Gaming Laptop, 9th Gen Intel Core...   \n3216  Acer - Nitro 5 17.3\" Gaming Laptop - Intel Cor...   \n3867  Acer Nitro 5 AN517-54-79L1 Gaming Laptop | Int...   \n4107  Acer Nitro 5 AN515-55-53E5, Intel i5-10300H, R...   \n4652  Acer Nitro 5 (NH.Q4TAA.001) Gaming Laptop, 15....   \n\n     wireless_communication_standard          wireless_type  \n170                        Bluetooth              Bluetooth  \n505                        Bluetooth              Bluetooth  \n575                        Bluetooth              Bluetooth  \n832            5 GHz Radio Frequency  5 GHz Radio Frequency  \n1022                             NaN                    NaN  \n1026                        802.11ac               802.11ac  \n1245                802.11a/b/g/n/ac       802.11a/b/g/n/ac  \n1615                             NaN              Bluetooth  \n1962                        801.11ac               801.11ac  \n3216                        802.11ac               802.11ac  \n3867                             NaN                    NaN  \n4107                             NaN                    NaN  \n4652                        802.11ac               802.11ac  \n\n[13 rows x 42 columns]",
      "text/html": "<div>\n<style scoped>\n    .dataframe tbody tr th:only-of-type {\n        vertical-align: middle;\n    }\n\n    .dataframe tbody tr th {\n        vertical-align: top;\n    }\n\n    .dataframe thead th {\n        text-align: right;\n    }\n</style>\n<table border=\"1\" class=\"dataframe\">\n  <thead>\n    <tr style=\"text-align: right;\">\n      <th></th>\n      <th>asin</th>\n      <th>best_sellers_rank</th>\n      <th>brand</th>\n      <th>card_description</th>\n      <th>chipset_brand</th>\n      <th>color</th>\n      <th>computer_memory_size</th>\n      <th>computer_memory_type</th>\n      <th>cpu_model_manufacturer</th>\n      <th>cpu_speed</th>\n      <th>...</th>\n      <th>ram</th>\n      <th>ram_type</th>\n      <th>screen_size</th>\n      <th>series</th>\n      <th>sold_by</th>\n      <th>standing_screen_display_size</th>\n      <th>stars</th>\n      <th>title</th>\n      <th>wireless_communication_standard</th>\n      <th>wireless_type</th>\n    </tr>\n  </thead>\n  <tbody>\n    <tr>\n      <th>170</th>\n      <td>B08YZ6Z1G3</td>\n      <td>#3,228 in Computers &amp; Accessories (See Top 100...</td>\n      <td>Acer</td>\n      <td>Dedicated</td>\n      <td>NVIDIA</td>\n      <td>Black</td>\n      <td>16 GB</td>\n      <td>NaN</td>\n      <td>AMD</td>\n      <td>4.4 GHz</td>\n      <td>...</td>\n      <td>16 GB DDR4</td>\n      <td>NaN</td>\n      <td>15.6 inches</td>\n      <td>AN515-45-R92M</td>\n      <td>Midland Electronics LLC</td>\n      <td>15.6 Inches</td>\n      <td>4 o</td>\n      <td>Acer Nitro 5 AN515-45-R92M Gaming Laptop, AMD ...</td>\n      <td>Bluetooth</td>\n      <td>Bluetooth</td>\n    </tr>\n    <tr>\n      <th>505</th>\n      <td>B08YZ52KK1</td>\n      <td>#23,706 in Computers &amp; Accessories (See Top 10...</td>\n      <td>Acer</td>\n      <td>Dedicated</td>\n      <td>NVIDIA</td>\n      <td>Black</td>\n      <td>32 GB</td>\n      <td>NaN</td>\n      <td>AMD</td>\n      <td>4.6 GHz</td>\n      <td>...</td>\n      <td>32 GB DDR4</td>\n      <td>NaN</td>\n      <td>15.6 inches</td>\n      <td>AN515-45-R9QH</td>\n      <td>J-Tech Digital, Inc</td>\n      <td>15.6 Inches</td>\n      <td>4.7</td>\n      <td>Acer Nitro 5 AN515-45-R9QH Gaming Laptop, AMD ...</td>\n      <td>Bluetooth</td>\n      <td>Bluetooth</td>\n    </tr>\n    <tr>\n      <th>575</th>\n      <td>B08YZ1V9WP</td>\n      <td>#9,174 in Computers &amp; Accessories (See Top 100...</td>\n      <td>Acer</td>\n      <td>Dedicated</td>\n      <td>NVIDIA</td>\n      <td>Black</td>\n      <td>16 GB</td>\n      <td>DDR4 SDRAM</td>\n      <td>AMD</td>\n      <td>4.4 GHz</td>\n      <td>...</td>\n      <td>16 GB DDR4</td>\n      <td>DDR4 SDRAM</td>\n      <td>17.3 inches</td>\n      <td>AN517-41-R0RZ</td>\n      <td>High Tech Stop</td>\n      <td>17.3 Inches</td>\n      <td>4.5</td>\n      <td>Acer Nitro 5 AN517-41-R0RZ Gaming Laptop, AMD ...</td>\n      <td>Bluetooth</td>\n      <td>Bluetooth</td>\n    </tr>\n    <tr>\n      <th>832</th>\n      <td>B08C1LB2S9</td>\n      <td>#15,583 in Computers &amp; Accessories (See Top 10...</td>\n      <td>Acer</td>\n      <td>Dedicated</td>\n      <td>NVIDIA</td>\n      <td>Black</td>\n      <td>8 GB</td>\n      <td>DDR4 SDRAM</td>\n      <td>Intel</td>\n      <td>4.10 GHz</td>\n      <td>...</td>\n      <td>8 GB DDR4</td>\n      <td>DDR4 SDRAM</td>\n      <td>15.6 inches</td>\n      <td>AN515-54-5812</td>\n      <td>Cardinal Pro Electronics</td>\n      <td>15.6 Inches</td>\n      <td>4.7</td>\n      <td>Acer Nitro 5 Gaming Laptop, 9th Gen Intel Core...</td>\n      <td>5 GHz Radio Frequency</td>\n      <td>5 GHz Radio Frequency</td>\n    </tr>\n    <tr>\n      <th>1022</th>\n      <td>B09B2SP417</td>\n      <td>#15,343 in Computers &amp; Accessories (See Top 10...</td>\n      <td>Acer</td>\n      <td>Dedicated</td>\n      <td>NVIDIA</td>\n      <td>NaN</td>\n      <td>16.0 GB</td>\n      <td>DDR4 SDRAM</td>\n      <td>Intel</td>\n      <td>4.50 GHz</td>\n      <td>...</td>\n      <td>16 GB DDR4</td>\n      <td>DDR4 SDRAM</td>\n      <td>15.6 inches</td>\n      <td>Acer Nitro</td>\n      <td>Available from these sellers</td>\n      <td>15.6 Inches</td>\n      <td>4.3</td>\n      <td>Newest Acer Nitro 5 Gaming Laptop, NVIDIA GeFo...</td>\n      <td>NaN</td>\n      <td>NaN</td>\n    </tr>\n    <tr>\n      <th>1026</th>\n      <td>B08J3XSXQ5</td>\n      <td>#14,263 in Computers &amp; Accessories (See Top 10...</td>\n      <td>Acer</td>\n      <td>Dedicated</td>\n      <td>NVIDIA</td>\n      <td>NaN</td>\n      <td>8 GB</td>\n      <td>DDR4 SDRAM</td>\n      <td>AMD</td>\n      <td>2.40 GHz</td>\n      <td>...</td>\n      <td>8 GB DDR4</td>\n      <td>DDR4 SDRAM</td>\n      <td>15.6 inches</td>\n      <td>NaN</td>\n      <td>VINE EXPRESS STORE</td>\n      <td>15.6 Inches</td>\n      <td>4.6</td>\n      <td>Acer Nitro 5 Gaming Laptop, 9th Gen Intel Core...</td>\n      <td>802.11ac</td>\n      <td>802.11ac</td>\n    </tr>\n    <tr>\n      <th>1245</th>\n      <td>B09GVTFM4Q</td>\n      <td>#13,220 in Computers &amp; Accessories (See Top 10...</td>\n      <td>Acer</td>\n      <td>Dedicated</td>\n      <td>NVIDIA</td>\n      <td>RTX 3050 | 16GB | 512GB</td>\n      <td>16 GB</td>\n      <td>DDR4 SDRAM</td>\n      <td>Intel</td>\n      <td>2.50 GHz</td>\n      <td>...</td>\n      <td>16 GB DDR3</td>\n      <td>DDR4 SDRAM</td>\n      <td>15.6 inches</td>\n      <td>Nitro 5</td>\n      <td>Available from these sellers</td>\n      <td>15.6 Inches</td>\n      <td>4.2</td>\n      <td>Acer Nitro 5 AN515 Gaming Laptop | Intel Core ...</td>\n      <td>802.11a/b/g/n/ac</td>\n      <td>802.11a/b/g/n/ac</td>\n    </tr>\n    <tr>\n      <th>1615</th>\n      <td>B09ST8HR27</td>\n      <td>#29,871 in Computers &amp; Accessories (See Top 10...</td>\n      <td>Acer</td>\n      <td>Dedicated</td>\n      <td>NVIDIA</td>\n      <td>NaN</td>\n      <td>NaN</td>\n      <td>DDR4 SDRAM</td>\n      <td>NaN</td>\n      <td>NaN</td>\n      <td>...</td>\n      <td>16 GB DDR4</td>\n      <td>NaN</td>\n      <td>NaN</td>\n      <td>Acer Nitro</td>\n      <td>NaN</td>\n      <td>15.6 Inches</td>\n      <td>4.8</td>\n      <td>Acer Nitro 5 Gaming Laptop 15.6” FHD IPS Displ...</td>\n      <td>NaN</td>\n      <td>Bluetooth</td>\n    </tr>\n    <tr>\n      <th>1962</th>\n      <td>B087RSQGSV</td>\n      <td>#30,877 in Computers &amp; Accessories (See Top 10...</td>\n      <td>Acer</td>\n      <td>Dedicated</td>\n      <td>NVIDIA</td>\n      <td>NaN</td>\n      <td>16 GB</td>\n      <td>DDR4 SDRAM</td>\n      <td>Intel</td>\n      <td>4.5 GHz</td>\n      <td>...</td>\n      <td>16 GB DDR4</td>\n      <td>DDR4 SDRAM</td>\n      <td>17.3 inches</td>\n      <td>AN517-51-76V6</td>\n      <td>Fulton Tech (We Record SN)</td>\n      <td>17.3 Inches</td>\n      <td>4.6</td>\n      <td>Acer Nitro 5 Gaming Laptop, 9th Gen Intel Core...</td>\n      <td>801.11ac</td>\n      <td>801.11ac</td>\n    </tr>\n    <tr>\n      <th>3216</th>\n      <td>B08JKYY74G</td>\n      <td>#74,376 in Computers &amp; Accessories (See Top 10...</td>\n      <td>Acer</td>\n      <td>Dedicated</td>\n      <td>NVIDIA</td>\n      <td>Obsidian Black</td>\n      <td>8 GB</td>\n      <td>SODIMM</td>\n      <td>Intel</td>\n      <td>4.50 GHz</td>\n      <td>...</td>\n      <td>8 GB SO-DIMM</td>\n      <td>SODIMM</td>\n      <td>17.3 inches</td>\n      <td>Nitro 5</td>\n      <td>Prime Service For Less</td>\n      <td>17.3 Inches</td>\n      <td>4.5</td>\n      <td>Acer - Nitro 5 17.3\" Gaming Laptop - Intel Cor...</td>\n      <td>802.11ac</td>\n      <td>802.11ac</td>\n    </tr>\n    <tr>\n      <th>3867</th>\n      <td>B09MFXY2Q8</td>\n      <td>NaN</td>\n      <td>Acer</td>\n      <td>Dedicated</td>\n      <td>NVIDIA</td>\n      <td>Shale Black</td>\n      <td>16.0 GB</td>\n      <td>NaN</td>\n      <td>Intel</td>\n      <td>2.4 GHz</td>\n      <td>...</td>\n      <td>16 GB DDR4</td>\n      <td>NaN</td>\n      <td>17.3 inches</td>\n      <td>AN517-54-79L1</td>\n      <td>Amazon.com</td>\n      <td>17.3 Inches</td>\n      <td>NaN</td>\n      <td>Acer Nitro 5 AN517-54-79L1 Gaming Laptop | Int...</td>\n      <td>NaN</td>\n      <td>NaN</td>\n    </tr>\n    <tr>\n      <th>4107</th>\n      <td>B097DRC1WS</td>\n      <td>#143,920 in Computers &amp; Accessories (See Top 1...</td>\n      <td>Acer</td>\n      <td>Dedicated</td>\n      <td>NVIDIA</td>\n      <td>NaN</td>\n      <td>8.0 GB</td>\n      <td>NaN</td>\n      <td>Intel</td>\n      <td>NaN</td>\n      <td>...</td>\n      <td>8 GB DDR4</td>\n      <td>NaN</td>\n      <td>15.6 inches</td>\n      <td>Acer Nitro</td>\n      <td>Amazon.com</td>\n      <td>15.6 Inches</td>\n      <td>4.7</td>\n      <td>Acer Nitro 5 AN515-55-53E5, Intel i5-10300H, R...</td>\n      <td>NaN</td>\n      <td>NaN</td>\n    </tr>\n    <tr>\n      <th>4652</th>\n      <td>B084MLZPBN</td>\n      <td>#238,833 in Computers &amp; Accessories (See Top 1...</td>\n      <td>Acer</td>\n      <td>Dedicated</td>\n      <td>AMD</td>\n      <td>NaN</td>\n      <td>8 GB</td>\n      <td>SODIMM</td>\n      <td>AMD</td>\n      <td>2 GHz</td>\n      <td>...</td>\n      <td>8 GB SO-DIMM</td>\n      <td>SODIMM</td>\n      <td>15.6 inches</td>\n      <td>Nitro</td>\n      <td>Cardinal Pro Electronics</td>\n      <td>15.6 Inches</td>\n      <td>5 o</td>\n      <td>Acer Nitro 5 (NH.Q4TAA.001) Gaming Laptop, 15....</td>\n      <td>802.11ac</td>\n      <td>802.11ac</td>\n    </tr>\n  </tbody>\n</table>\n<p>13 rows × 42 columns</p>\n</div>"
     },
     "execution_count": 107,
     "metadata": {},
     "output_type": "execute_result"
    }
   ],
   "source": [
    "new_df.loc[new_df['title'].str.contains('Nitro 5'), :]"
   ],
   "metadata": {
    "collapsed": false,
    "pycharm": {
     "name": "#%%\n"
    }
   }
  },
  {
   "cell_type": "markdown",
   "id": "856ff5c9",
   "metadata": {},
   "source": [
    "# Export Dataframe as Excell file"
   ]
  },
  {
   "cell_type": "code",
   "execution_count": 108,
   "id": "27152530",
   "metadata": {
    "pycharm": {
     "name": "#%%\n"
    }
   },
   "outputs": [],
   "source": [
    "new_df.to_excel('laptop_amazon.xlsx')"
   ]
  }
 ],
 "metadata": {
  "kernelspec": {
   "display_name": "Python 3 (ipykernel)",
   "language": "python",
   "name": "python3"
  },
  "language_info": {
   "codemirror_mode": {
    "name": "ipython",
    "version": 3
   },
   "file_extension": ".py",
   "mimetype": "text/x-python",
   "name": "python",
   "nbconvert_exporter": "python",
   "pygments_lexer": "ipython3",
   "version": "3.8.12"
  }
 },
 "nbformat": 4,
 "nbformat_minor": 5
}